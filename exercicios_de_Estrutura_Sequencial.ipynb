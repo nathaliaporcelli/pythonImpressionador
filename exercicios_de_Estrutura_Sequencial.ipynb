{
  "cells": [
    {
      "cell_type": "markdown",
      "metadata": {
        "id": "view-in-github",
        "colab_type": "text"
      },
      "source": [
        "<a href=\"https://colab.research.google.com/github/nathaliaporcelli/pythonImpressionador/blob/main/exercicios_de_Estrutura_Sequencial.ipynb\" target=\"_parent\"><img src=\"https://colab.research.google.com/assets/colab-badge.svg\" alt=\"Open In Colab\"/></a>"
      ]
    },
    {
      "cell_type": "markdown",
      "id": "bb0f9514",
      "metadata": {
        "id": "bb0f9514"
      },
      "source": [
        "# Lista de Estrutura Sequencial"
      ]
    },
    {
      "cell_type": "markdown",
      "id": "4e7a8c30",
      "metadata": {
        "id": "4e7a8c30"
      },
      "source": [
        "#### 1. Faça um Programa que mostre a mensagem (print) \"Alo mundo\" na tela."
      ]
    },
    {
      "cell_type": "code",
      "execution_count": null,
      "id": "883bfe85",
      "metadata": {
        "id": "883bfe85",
        "colab": {
          "base_uri": "https://localhost:8080/"
        },
        "outputId": "fb838fbc-cd00-4cc8-bdd6-55ff2e1acd18"
      },
      "outputs": [
        {
          "output_type": "stream",
          "name": "stdout",
          "text": [
            "Olá, mundo!\n"
          ]
        }
      ],
      "source": [
        "print(\"Olá, mundo!\")"
      ]
    },
    {
      "cell_type": "markdown",
      "id": "71d6d6a2",
      "metadata": {
        "id": "71d6d6a2"
      },
      "source": [
        "#### 2. Faça um Programa que peça um número (input) e então mostre a mensagem: \"O número informado foi [número].\""
      ]
    },
    {
      "cell_type": "code",
      "execution_count": null,
      "id": "30cfffcf",
      "metadata": {
        "id": "30cfffcf",
        "colab": {
          "base_uri": "https://localhost:8080/"
        },
        "outputId": "73b15852-ce2b-4a33-960e-c1631a40cb38"
      },
      "outputs": [
        {
          "output_type": "stream",
          "name": "stdout",
          "text": [
            "Digite um número0\n",
            "O número informado foi 0\n"
          ]
        }
      ],
      "source": [
        "numero = input(\"Digite um número\")\n",
        "print(\"O número informado foi \" +numero)"
      ]
    },
    {
      "cell_type": "markdown",
      "id": "c5e43160",
      "metadata": {
        "id": "c5e43160"
      },
      "source": [
        "#### 3. Faça um Programa que peça dois números e imprima a soma."
      ]
    },
    {
      "cell_type": "code",
      "execution_count": null,
      "id": "b0e79590",
      "metadata": {
        "id": "b0e79590",
        "colab": {
          "base_uri": "https://localhost:8080/"
        },
        "outputId": "9d4e45bd-9a09-4710-9276-ff659cc39b71"
      },
      "outputs": [
        {
          "output_type": "stream",
          "name": "stdout",
          "text": [
            "Digite o primeiro número2\n",
            "Digite o segundo número5\n",
            "A soma dos 2 números é:  7\n"
          ]
        }
      ],
      "source": [
        "numero1 = int(input(\"Digite o primeiro número \"))\n",
        "numero2 = int(input(\"Digite o segundo número \"))\n",
        "soma = numero1 + numero2\n",
        "print (f\"A soma dos 2 números é: \", soma)"
      ]
    },
    {
      "cell_type": "markdown",
      "id": "17826987",
      "metadata": {
        "id": "17826987"
      },
      "source": [
        "#### 4. Faça um Programa que peça as 4 notas bimestrais de um aluno e mostre a média de todas as notas."
      ]
    },
    {
      "cell_type": "code",
      "execution_count": null,
      "id": "23b66762",
      "metadata": {
        "id": "23b66762",
        "colab": {
          "base_uri": "https://localhost:8080/"
        },
        "outputId": "0bac2de9-8634-4b88-8aef-5c85ca8058a9"
      },
      "outputs": [
        {
          "output_type": "stream",
          "name": "stdout",
          "text": [
            "Digite a primeira nota: 3\n",
            "Digite a segunda nota: 1\n",
            "Digite a terceira nota: 3\n",
            "Digite a quarta nota: 2\n",
            "A média das notas é:  2.25\n"
          ]
        }
      ],
      "source": [
        "nota1 = float(input(\"Digite a primeira nota: \"))\n",
        "nota2 = float(input(\"Digite a segunda nota: \"))\n",
        "nota3 = float(input(\"Digite a terceira nota: \"))\n",
        "nota4 = float(input(\"Digite a quarta nota: \"))\n",
        "\n",
        "media = (nota1+nota2+nota3+nota4)/4\n",
        "\n",
        "print (f\"A média das notas é: \", media)\n"
      ]
    },
    {
      "cell_type": "markdown",
      "id": "62d461c5",
      "metadata": {
        "id": "62d461c5"
      },
      "source": [
        "#### 5. Faça um Programa que converta metros para centímetros. Você pode pedir o comprimento em metros para o usuário (input)."
      ]
    },
    {
      "cell_type": "code",
      "execution_count": null,
      "id": "d642f1ba",
      "metadata": {
        "id": "d642f1ba",
        "colab": {
          "base_uri": "https://localhost:8080/"
        },
        "outputId": "6ff3807d-f9f2-4b5f-f58b-29bc66d5fb5f"
      },
      "outputs": [
        {
          "output_type": "stream",
          "name": "stdout",
          "text": [
            "Digite o valor em metros: 1\n",
            "O valor em centímetros é:  100.0\n"
          ]
        }
      ],
      "source": [
        "metros = float(input(\"Digite o valor em metros: \"))\n",
        "centimetros = metros*100\n",
        "print(f\"O valor em centímetros é: \", centimetros)"
      ]
    },
    {
      "cell_type": "markdown",
      "id": "f1311697",
      "metadata": {
        "id": "f1311697"
      },
      "source": [
        "#### 6. Faça um Programa que calcule a área de uma sala de um apartamento. Para isso, o seu programa precisa pedir a largura da sala, o comprimento da sala e imprimir a área em m² da sala."
      ]
    },
    {
      "cell_type": "code",
      "execution_count": null,
      "id": "612ea24b",
      "metadata": {
        "id": "612ea24b",
        "colab": {
          "base_uri": "https://localhost:8080/"
        },
        "outputId": "ee07f5d5-b578-4760-99b5-60ffad50333c"
      },
      "outputs": [
        {
          "output_type": "stream",
          "name": "stdout",
          "text": [
            "Digite a largura da sala: 2\n",
            "Digite a altura da sala: 2\n",
            "A área da sala é:  4.0\n"
          ]
        }
      ],
      "source": [
        "largura = float(input(\"Digite a largura da sala: \"))\n",
        "altura = float(input(\"Digite a altura da sala: \"))\n",
        "area = largura * altura\n",
        "\n",
        "print(f\"A área da sala é: \", area)"
      ]
    },
    {
      "cell_type": "markdown",
      "id": "2a285929",
      "metadata": {
        "id": "2a285929"
      },
      "source": [
        "#### 7. Faça um Programa que pergunte quanto você ganha por hora e o número de horas trabalhadas no mês. Calcule e mostre o total do seu salário no referido mês."
      ]
    },
    {
      "cell_type": "code",
      "execution_count": null,
      "id": "359e2232",
      "metadata": {
        "id": "359e2232",
        "colab": {
          "base_uri": "https://localhost:8080/"
        },
        "outputId": "2c1d3563-0e3b-497e-8d83-959a722dab57"
      },
      "outputs": [
        {
          "output_type": "stream",
          "name": "stdout",
          "text": [
            "Quanto você ganha por hora? 30\n",
            "Quantas horas foram trabalhadas durante este mês? 160\n",
            "O salário do mês é de:  4800.0\n"
          ]
        }
      ],
      "source": [
        "valorPorHora = float(input(\"Quanto você ganha por hora? \"))\n",
        "horasTrabalhadas = float(input(\"Quantas horas foram trabalhadas durante este mês? \"))\n",
        "salario = valorPorHora*horasTrabalhadas\n",
        "print(f\"O salário do mês é de: \", salario)"
      ]
    },
    {
      "cell_type": "markdown",
      "id": "7e2d4615",
      "metadata": {
        "id": "7e2d4615"
      },
      "source": [
        "#### 8. Vamos criar um conversor de temperatura. Faça um Programa que peça a temperatura em graus Fahrenheit, transforme e mostre a temperatura em graus Celsius.\n",
        "$C = \\frac{5}{9}(F-32)$"
      ]
    },
    {
      "cell_type": "code",
      "execution_count": null,
      "id": "82daf9fd",
      "metadata": {
        "id": "82daf9fd",
        "colab": {
          "base_uri": "https://localhost:8080/"
        },
        "outputId": "618f6630-4d95-4291-87e6-ce0afab3da43"
      },
      "outputs": [
        {
          "output_type": "stream",
          "name": "stdout",
          "text": [
            "Digite os graus em Fahrenheit: 4\n",
            "A temperatura em Celsius é:  -15.555555555555555\n"
          ]
        }
      ],
      "source": [
        "fahrenheit = (float(input(\"Digite os graus em Fahrenheit: \")))\n",
        "celsius = (fahrenheit - 32)*5/9\n",
        "print(f\"A temperatura em Celsius é: \", celsius)"
      ]
    },
    {
      "cell_type": "markdown",
      "id": "20708b1c",
      "metadata": {
        "id": "20708b1c"
      },
      "source": [
        "#### 9. Faça um Programa que peça a temperatura em graus Celsius, transforme e mostre em graus Fahrenheit.\n",
        "$F = \\frac{9}{5}C + 32$"
      ]
    },
    {
      "cell_type": "code",
      "execution_count": null,
      "id": "c73cfb38",
      "metadata": {
        "id": "c73cfb38",
        "colab": {
          "base_uri": "https://localhost:8080/"
        },
        "outputId": "b9bab8af-3b91-42ee-d60a-58cadf15efd4"
      },
      "outputs": [
        {
          "output_type": "stream",
          "name": "stdout",
          "text": [
            "Digite os graus em Celsius: 0\n",
            "A temperatura em fahrenheit é:  32.0\n"
          ]
        }
      ],
      "source": [
        "celsius = (float(input(\"Digite os graus em Celsius: \")))\n",
        "fahrenheit = ((celsius*9/5) + 32)\n",
        "print(f\"A temperatura em fahrenheit é: \", fahrenheit)"
      ]
    },
    {
      "cell_type": "markdown",
      "id": "b263a9dc",
      "metadata": {
        "id": "b263a9dc"
      },
      "source": [
        "#### 10. Tendo como dados de entrada a altura (h) de uma pessoa, construa um algoritmo que calcule seu peso ideal, usando a seguinte fórmula:\n",
        "$P = 72,7h - 58$\n",
        "\n",
        "Lembrando que \"algoritmo\" nada mais é do que um programa, como todos os outros que você vem fazendo"
      ]
    },
    {
      "cell_type": "code",
      "execution_count": null,
      "id": "9a9b8dca",
      "metadata": {
        "id": "9a9b8dca",
        "colab": {
          "base_uri": "https://localhost:8080/"
        },
        "outputId": "38288f27-d6ec-4c3e-9912-0fc31cb04307"
      },
      "outputs": [
        {
          "output_type": "stream",
          "name": "stdout",
          "text": [
            "Digite sua altura: 167\n",
            "O peso ideal é  63.409000000000006\n"
          ]
        }
      ],
      "source": [
        "altura = float(input(\"Digite sua altura: \"))\n",
        "pesoIdeal = 72.7*(altura/100) -58\n",
        "print(f\"O peso ideal é \", pesoIdeal)"
      ]
    },
    {
      "cell_type": "markdown",
      "id": "13bb40d7",
      "metadata": {
        "id": "13bb40d7"
      },
      "source": [
        "#### 11. Tendo como dado de entrada a altura (h) de uma pessoa, construa um algoritmo que calcule seu peso ideal, utilizando as seguintes fórmulas:\n",
        "##### a. Para homens: $P = 72,7h - 58$\n",
        "##### b. Para mulheres: $P = 62,1h - 44,7$"
      ]
    },
    {
      "cell_type": "code",
      "source": [
        "altura = float(input(\"Digite sua altura: \"))\n",
        "\n",
        "\n",
        "sexo = input(\"Digite M para mulher e H para homem\")\n",
        "if (sexo == \"h\"):\n",
        "  pesoIdeal = 72.7*(altura/100) -58\n",
        "else:\n",
        "  pesoIdeal = 62.1*(altura/100) -44.7\n",
        "\n",
        "\n",
        "print(f\"O peso ideal é \", pesoIdeal)\n"
      ],
      "metadata": {
        "colab": {
          "base_uri": "https://localhost:8080/"
        },
        "id": "FPmiSb9xG3QN",
        "outputId": "ee10a225-da72-47e5-8561-71fdfa4b9201"
      },
      "id": "FPmiSb9xG3QN",
      "execution_count": null,
      "outputs": [
        {
          "output_type": "stream",
          "name": "stdout",
          "text": [
            "Digite sua altura: 167\n",
            "Digite M para mulher e H para homemm\n",
            "O peso ideal é  59.00699999999999\n"
          ]
        }
      ]
    },
    {
      "cell_type": "code",
      "execution_count": null,
      "id": "bf82dc8c",
      "metadata": {
        "id": "bf82dc8c"
      },
      "outputs": [],
      "source": []
    },
    {
      "cell_type": "markdown",
      "id": "f208ef89",
      "metadata": {
        "id": "f208ef89"
      },
      "source": [
        "#### 12. Faça um Programa que pergunte quanto você ganha por hora e o número de horas trabalhadas no mês."
      ]
    },
    {
      "cell_type": "code",
      "execution_count": null,
      "id": "2d5b23e0",
      "metadata": {
        "id": "2d5b23e0",
        "colab": {
          "base_uri": "https://localhost:8080/"
        },
        "outputId": "c8b58273-e89d-4cfb-b065-4db69a70905f"
      },
      "outputs": [
        {
          "name": "stdout",
          "output_type": "stream",
          "text": [
            "Digite o valor por hora: 1\n",
            "Digite a quantidade de horas trabalhadas: 100\n"
          ]
        }
      ],
      "source": [
        "ganhoHora = float(input(\"Digite o valor por hora: \"))\n",
        "horasTrabalhadas = float(input(\"Digite a quantidade de horas trabalhadas: \"))"
      ]
    },
    {
      "cell_type": "markdown",
      "id": "607dee3c",
      "metadata": {
        "id": "607dee3c"
      },
      "source": [
        "#####  Calcule o salário bruto (horas * salario por hora)"
      ]
    },
    {
      "cell_type": "code",
      "execution_count": null,
      "id": "7f80ccbb",
      "metadata": {
        "id": "7f80ccbb",
        "colab": {
          "base_uri": "https://localhost:8080/"
        },
        "outputId": "a26cdf9c-f8ed-49c7-c390-9d3e38b2faa3"
      },
      "outputs": [
        {
          "output_type": "stream",
          "name": "stdout",
          "text": [
            "o valor bruto é:  100.0\n"
          ]
        }
      ],
      "source": [
        "valorBruto = ganhoHora*horasTrabalhadas\n",
        "print(\"o valor bruto é: \",valorBruto)"
      ]
    },
    {
      "cell_type": "markdown",
      "id": "2ed93cb0",
      "metadata": {
        "id": "2ed93cb0"
      },
      "source": [
        "##### Calcule o desconto do IR (11% do salário bruto)"
      ]
    },
    {
      "cell_type": "code",
      "execution_count": null,
      "id": "3363e22f",
      "metadata": {
        "id": "3363e22f",
        "colab": {
          "base_uri": "https://localhost:8080/"
        },
        "outputId": "c4bc53bb-a80b-470e-fad7-1a830503eb75"
      },
      "outputs": [
        {
          "output_type": "stream",
          "name": "stdout",
          "text": [
            " O desconto de Ir é:  11.0\n"
          ]
        }
      ],
      "source": [
        "descontoIR = valorBruto*0.11\n",
        "print(\" O desconto de Ir é: \",descontoIR)"
      ]
    },
    {
      "cell_type": "markdown",
      "id": "0994b2c0",
      "metadata": {
        "id": "0994b2c0"
      },
      "source": [
        "##### Calcule o desconto do INSS (8% do salário bruto)"
      ]
    },
    {
      "cell_type": "code",
      "execution_count": null,
      "id": "748c6088",
      "metadata": {
        "id": "748c6088",
        "colab": {
          "base_uri": "https://localhost:8080/"
        },
        "outputId": "7b62fdab-9167-4274-a45d-03adb16c95a7"
      },
      "outputs": [
        {
          "output_type": "stream",
          "name": "stdout",
          "text": [
            "O desconto de INSS é:  8.0\n"
          ]
        }
      ],
      "source": [
        "descontoINSS = valorBruto*0.08\n",
        "print(\"O desconto de INSS é: \", descontoINSS)"
      ]
    },
    {
      "cell_type": "markdown",
      "id": "06e8dae4",
      "metadata": {
        "id": "06e8dae4"
      },
      "source": [
        "##### Calcule o desconto do sindicato (5% do salário bruto)"
      ]
    },
    {
      "cell_type": "code",
      "execution_count": null,
      "id": "21b95b15",
      "metadata": {
        "scrolled": true,
        "id": "21b95b15",
        "colab": {
          "base_uri": "https://localhost:8080/"
        },
        "outputId": "b09593af-bbc6-43e7-d61e-3519536db353"
      },
      "outputs": [
        {
          "output_type": "stream",
          "name": "stdout",
          "text": [
            "o desconto do sindicato é:  5.0\n"
          ]
        }
      ],
      "source": [
        "descontoSindicato = valorBruto*0.05\n",
        "print(\"o desconto do sindicato é: \", descontoSindicato)"
      ]
    },
    {
      "cell_type": "markdown",
      "id": "bb14ce36",
      "metadata": {
        "id": "bb14ce36"
      },
      "source": [
        "##### Calcule o salário líquido (salário bruto - descontos)"
      ]
    },
    {
      "cell_type": "code",
      "execution_count": null,
      "id": "56317086",
      "metadata": {
        "id": "56317086",
        "colab": {
          "base_uri": "https://localhost:8080/"
        },
        "outputId": "9f4af1d2-656e-462e-b967-3ff2da8ce0c3"
      },
      "outputs": [
        {
          "output_type": "stream",
          "name": "stdout",
          "text": [
            "O salário líquido é de:  76.0\n"
          ]
        }
      ],
      "source": [
        "salarioLiquido = valorBruto - descontoSindicato - descontoINSS - descontoIR\n",
        "print(\"O salário líquido é de: \", salarioLiquido)"
      ]
    },
    {
      "cell_type": "markdown",
      "id": "cfbfcc87",
      "metadata": {
        "id": "cfbfcc87"
      },
      "source": [
        "#### 13. Faça um programa para uma loja de tintas. O programa deverá pedir o tamanho em metros quadrados da área a ser pintada. Considere que a cobertura da tinta é de 1 litro para cada 3 metros quadrados e que a tinta é vendida em latas de 18 litros, que custam R\\$ 80,00. Informe ao usuário a quantidades de latas de tinta a serem compradas e o preço total. (para simplificação nesse momento, não se preocupe em arredondar a quantidade de latas a serem compradas - vamos trabalhar isso em breve)"
      ]
    },
    {
      "cell_type": "code",
      "execution_count": null,
      "id": "fb6a083b",
      "metadata": {
        "id": "fb6a083b",
        "colab": {
          "base_uri": "https://localhost:8080/"
        },
        "outputId": "e79ff5a8-cee9-459f-ba98-5020694f5d0b"
      },
      "outputs": [
        {
          "output_type": "stream",
          "name": "stdout",
          "text": [
            "Digite a área a ser pintada em m²: 54\n",
            "Serão necessárias:  1.0 latas de tinta\n",
            "O valor total em R$ será de:  80.0  reais\n"
          ]
        }
      ],
      "source": [
        "area = float(input(\"Digite a área a ser pintada em m²: \"))\n",
        "litrosTinta = area/3\n",
        "latasTinta = litrosTinta/18\n",
        "valorLatas = latasTinta*80\n",
        "print(\"Serão necessárias: \", latasTinta, \"latas de tinta\")\n",
        "print(\"O valor total em R$ será de: \",valorLatas,\" reais\")\n"
      ]
    },
    {
      "cell_type": "markdown",
      "id": "d6503c92",
      "metadata": {
        "id": "d6503c92"
      },
      "source": [
        "#### 14. Faça um programa que peça o tamanho de um arquivo para download (em MB) e a velocidade de um link de Internet (em Mbps), calcule e informe o tempo aproximado de download do arquivo usando este link (em minutos).\n",
        "\n",
        "Detalhe: MB significa megabyte, Mb (com b minúsculo) significa megabit. Um megabit é 1/8 de um megabyte."
      ]
    },
    {
      "cell_type": "code",
      "execution_count": null,
      "id": "0563aa62",
      "metadata": {
        "id": "0563aa62",
        "colab": {
          "base_uri": "https://localhost:8080/"
        },
        "outputId": "6fd7bcfe-c612-4343-d33e-808716e7d507"
      },
      "outputs": [
        {
          "output_type": "stream",
          "name": "stdout",
          "text": [
            "Digite o tamanho do arquivo em MB: 600\n",
            "Digite a velocidade da internet: 100\n",
            "O tempo previsto de download é de:  0.1  minutos\n"
          ]
        }
      ],
      "source": [
        "tamanhoArquivo = float(input(\"Digite o tamanho do arquivo em MB: \"))\n",
        "velocidadeInternet = float(input(\"Digite a velocidade da internet: \"))\n",
        "tempoDownload = ((tamanhoArquivo/velocidadeInternet)/60)\n",
        "print(\"O tempo previsto de download é de: \", tempoDownload, \" minutos\")"
      ]
    }
  ],
  "metadata": {
    "kernelspec": {
      "display_name": "Python 3 (ipykernel)",
      "language": "python",
      "name": "python3"
    },
    "language_info": {
      "codemirror_mode": {
        "name": "ipython",
        "version": 3
      },
      "file_extension": ".py",
      "mimetype": "text/x-python",
      "name": "python",
      "nbconvert_exporter": "python",
      "pygments_lexer": "ipython3",
      "version": "3.9.7"
    },
    "colab": {
      "provenance": [],
      "include_colab_link": true
    }
  },
  "nbformat": 4,
  "nbformat_minor": 5
}